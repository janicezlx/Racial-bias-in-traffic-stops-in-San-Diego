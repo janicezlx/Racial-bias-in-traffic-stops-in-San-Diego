{
 "cells": [
  {
   "cell_type": "markdown",
   "metadata": {},
   "source": [
    "# COGS 108 - Assignment 4: Project Proposal"
   ]
  },
  {
   "cell_type": "markdown",
   "metadata": {},
   "source": [
    "## Important\n",
    "\n",
    "- Make sure all group member (3-5 people) are listed in the group members section.\n",
    "- ONE, and only one, member of your group should upload this notebook to TritonED. \n",
    "- Each member of the group will receive the same grade on this assignment. \n",
    "- Keep the file name the same: submit the file 'A4_ProjectProposal.ipynb'"
   ]
  },
  {
   "cell_type": "markdown",
   "metadata": {},
   "source": [
    "## Overview"
   ]
  },
  {
   "cell_type": "markdown",
   "metadata": {},
   "source": [
    "Read the project description, and detailed instructions for this assignment, in the 'A4_ProjectOutlineAndProposal' pdf."
   ]
  },
  {
   "cell_type": "markdown",
   "metadata": {},
   "source": [
    "## Group Members\n",
    "- A12236191\n",
    "- A92046751\n",
    "- A92134966\n",
    "- A91134400\n"
   ]
  },
  {
   "cell_type": "markdown",
   "metadata": {},
   "source": [
    "### Research Question\n",
    "\n",
    "What is your research question? (1-2 sentences)"
   ]
  },
  {
   "cell_type": "markdown",
   "metadata": {},
   "source": [
    "A study on traffic stops in San Diego during 2014/15 showed that Black and Hispanic drivers were more likely to be stopped and searched, but less likely to be carrying contraband when compared to their White and Asian counterparts. Do the racial demographics in traffic stops, searches, and citations made by the SDPD more accurately reflect San Diego's own racial demographics in 2016/17 when compared to 2014/15?"
   ]
  },
  {
   "cell_type": "markdown",
   "metadata": {},
   "source": [
    "### Hypothesis\n",
    "\n",
    "What is your prediction (2-3 sentences)"
   ]
  },
  {
   "cell_type": "markdown",
   "metadata": {},
   "source": [
    "In response to the study, the SDPD increased required training for officers and other officials. We predict that the racial breakdown of traffic stops, searches, and citations will better match the breakdown of drivers in San Diego, but the racial bias shown by the 2014/15 study will not be completely gone."
   ]
  },
  {
   "cell_type": "markdown",
   "metadata": {},
   "source": [
    "### Dataset(s)\n",
    "\n",
    "What data will you use to answer your question? Describe the dataset in terms of number of observations, what kind of features it contains, etc. You must use at least one dataset containing at least approximately 1000 observations (if your data are smaller but you feel they are sufficient, email Prof. Voytek). You are welcome (and in fact recommended) to find multiple datasets! If you do so, describe each one, and briefly explain how you will combine them together. "
   ]
  },
  {
   "cell_type": "markdown",
   "metadata": {},
   "source": [
    "All vehicle stops in San Diego during 2016. Relevant information includes the timestamp,suspect’s race, sex, and age, and whether or not the suspect’s vehicle was searched.\n",
    "- Dataset Name: Vehicle Stops (2016)\n",
    "- Link to the dataset: http://seshat.datasd.org/pd/vehicle_stops_2016_datasd.csv\n",
    "- Number of observations: 103,052\n",
    "\n",
    "All vehicle stops in San Diego from the beginning of 2017 up through March. Relevant information includes the timestamp, suspect’s race, sex, and age, and whether or not the suspect’s vehicle was searched.\n",
    "- Dataset Name: Vehicle Stops Search Details (2016)\n",
    "- Link to the dataset: http://seshat.datasd.org/pd/vehicle_stops_search_details_2015_datasd.csv\n",
    "- Number of observations: 126,582\n"
   ]
  },
  {
   "cell_type": "markdown",
   "metadata": {},
   "source": [
    "### Background & Prior Work\n",
    "\n",
    "Why is this question of interest, what background information led you to your hypothesis, and why is this important?\n",
    "\n",
    "Find some relevant prior work, and reference them. Even if you think you have a totally novel question, find the most similar prior work you can, and discuss how it relates to your project. \n",
    "\n",
    "References can be research publications, but they need not be: blogs, github repositories, company websites, etc., are viable references if they are relevant to your project.\n",
    "\n",
    "(2-3 paragraphs, including at least 2 references)"
   ]
  },
  {
   "cell_type": "markdown",
   "metadata": {},
   "source": [
    "    Our question of interest is if the increase in police training during the end of 2015 decrease the racial biases present in traffic stops in 2014-2015 compared to 2016-2017. We initially found the datasets concerning police traffic stops in the data.sandiego.gov site. This prompted us to consider the racial biases that might be at play. A simple google search led us to discover a study that analyzed racial bias in traffic stops in San Diego during 2014-2015 (1). In response to the study the SDPD increased training over the entire organization. Because of this we decided to figure out whether the training has actually worked. We hypothesize that the racial bias has decreased since the the training, but still exists at some level.\n",
    "    \n",
    "\tThe second reference refers to a police officer in Chula Vista who witnessed several of his colleagues using racial slurs (2). This article shows a bias against certain races in policing and further emphasizes the need to address this issue. We believe that a discussion about racial bias in policing is important because it concerns the safety of people not only in San Diego, but America as a whole. Tensions have been especially high due to current events, so if we can determine whether police training made a difference, we may be able to provide useful feedback as to the efficacy of the implementation of more police training programs across the US. \n",
    "\n",
    "References : \n",
    "1) Traffic enforcement in\tSan Diego, California An analysis of SDPD vehicle stops in 2014 and 2015\n",
    "- Study done by SDSU at the request of the City of San Diego.\n",
    "Long link to pdf of research study:    \n",
    "http://tu9srvbirvvtmtukd3d3lnnhbmrpzwdvlmdvdg00.g00.sandiegouniontribune.com/g00/2_d3d3LnNhbmRpZWdvdW5pb250cmlidW5lLmNvbQ%3D%3D_/TU9SRVBIRVVTMTUkaHR0cHM6Ly93d3cuc2FuZGllZ28uZ292L3NpdGVzL2RlZmF1bHQvZmlsZXMvc2RwZHZlaGljbGVzdG9wc2ZpbmFsLnBkZg%3D%3D_$/$/$/$/$    \n",
    "\n",
    "2) Chula Vista settles with ex-cop for 175k USD in whistleblower racism case\n",
    "- Police officer claimed he was fired in response to filing a complaint about racism within the department; sued the city.\n",
    "Link:\n",
    "http://www.10news.com/news/chula-vista-settles-with-ex-cop-for-175k-in-whistleblower-racism-case"
   ]
  },
  {
   "cell_type": "markdown",
   "metadata": {},
   "source": [
    "### Proposed Methods\n",
    "\n",
    "What methods will you use to analyze your data?\n",
    "\n",
    "- How 'clean' is the data? To the extent that it requires cleaning, how will you do so?\n",
    "- How will you analyze the data? Be as specific as you can. Briefly mention any pre-processing steps that are required for your methods (for example, checking data distributions and performing any transformations that may be required). Include a brief outline of how you will apply your chosen method(s). \n",
    "- What do you plan to report? Briefly mention any key visualizations you plan to create, and/or the kind of result you will be able to report that addresses your question (this could be, for example, the outcome of some statistical test(s), prediction error on a model, a model fit parameter, etc.).\n",
    "- Include a list of packages you expect to use for you project. If you plan to use packages we have not used in class, add a very brief description about them (a few words is sufficient). "
   ]
  },
  {
   "cell_type": "markdown",
   "metadata": {},
   "source": [
    "Data Cleaning:\n",
    "\tOur data contains columns that we don’t need, columns that don’t have data in every row, and rows that are null that we will drop from our dataset. The format of the data is not consistent throughout the entire set and there are some misplaced data (e.g. row 30 in vehicle_stops_2017_datasd, data are placed in the wrong columns). We should also drop these rows, otherwise the incorrect data values may impact our analysis. We will filter by the SD_Resident column to only include San Diego residents in our analysis, as those are the ones that we will compare to to San Diego’s actual demographic break up. We will also use a technique called “Veil of Darkness” which looks at stops that occur at night time to establish the overall demographics of SD drivers, under the assumption that police officers are less likely to see the drivers and thus less likely to act on any implicit biases.\n",
    "     \n",
    "Data Analysis:\n",
    "\tInitially we will look at the distribution of data to determine whether there is any surprising or unusual datapoints that need to be addressed. To establish overall driver demographics, we will use the ‘veil of darkness’ technique used by the original study. This assumes that stops made at night time closely match the demographics of drivers, as the police officer is unable to determine race or gender of the individual before the stop occurs. Then we will compute the number of stops for each race and compare these to the current SD demographics found through the technique discussed above. We can then compare the overall numbers to the SDSU study. We will look at SD_RESIDENT, STOP_TIME, SUBJECT_RACE, ARRESTED, and SEARCHED to derive the current numbers for the same charts as the original study. We will determine whether the differences from the article are significant, and whether our findings are closer to that of the 2015 study or to that of current SD demographics. We will compare and contrast the demographics of stops, searches, and arrests in the data set. With this comparison, we can create the same charts that exist in the 2015 study, but for the most recent years, after the training was implemented. \n",
    "\n",
    "What to report:\n",
    "\tWe will finalize the comparison between the results of our analysis and the results found by the SDSU study and identify if any racial biases still exist and to what extent.We can determine if there is any improvement from 2015, and if so by how much. We plan to include visualizations (bar charts) like that of the 2015 report (1) so that an easy comparison can be made to show the change. We will cover the hurdles we had to overcome in order to properly clean, join, and order our data in such a way that it is readable and presentable, and any pitfalls or challenges that forced us to change these initial methods.\n",
    "\n",
    "Packages we plan to use:\n",
    "- pandas\n",
    "- numpy\n",
    "- matplotlib"
   ]
  },
  {
   "cell_type": "markdown",
   "metadata": {},
   "source": [
    "### Discussion\n",
    "\n",
    "What are the pitfalls and potential confounds of your data and/or methods? For example, how might biases in your data sources or analyses influence your interpretations? What will you do if you methods don't work and/or your hypotheses are wrong?\n",
    "\n",
    "(2-3 paragraphs)"
   ]
  },
  {
   "cell_type": "markdown",
   "metadata": {},
   "source": [
    "       The data contains many blank entries, as well as null cells. We will have to clean out any rows in the data that do not contain all of the entries we need, and then standardize any differences in formatting between the two spreadsheets. We are assuming the data being reported by the SDPD is accurate. We are also assuming that night stops provide a good indicator of driving demographics, as used in the SDSU study. If they are not accurate, our results will not properly reflect the answer to our research question. Furthermore, we are going to use the STOP_TIME or timestamp columns to establish demographic data, but the onset of night changes throughout the year. Thus, if we have time we will take sunset time into consideration. For example in summer the sun goes down after 7:30 and the police officers should still be able to see the drivers clearly at around 7. If it’s in winter then it will be completely dark at around 5. If this proves too difficult, we will set the cutoff for night time at the earliest time we can ensure all of the stops occur during darkness at any point in the year.\n",
    "       \n",
    "    A potential bias in our data may result from the varying distribution of crime rates across San Diego. Some areas in San Diego may have higher crime rates and may be linked to certain areas with higher concentrations of certain races. Because of this, police officers may be more likely to stop cars in that area. We won’t account for this possibility in our analysis and data cleaning so it’s possible that treating all areas the same won’t accurately reflect the police’s consideration of high crime rates and area specific factors when they make traffic stops.\n",
    "    \n",
    "    If our methods don’t work we will search for help and try to alter them so that they do. If this still doesn’t work, then it will be a learning experience that will help inform our future endeavors. If our data analysis doesn’t support our hypothesis that police training reduced systemic racial bias, then we will instead assert that the training had a negligible or negative effect as our conclusion. This would be meaningful in its own way because it would suggest that the current efforts to combat racial biases are ineffective and need to be reworked in order to make a positive difference. "
   ]
  }
 ],
 "metadata": {
  "kernelspec": {
   "display_name": "Python 3",
   "language": "python",
   "name": "python3"
  },
  "language_info": {
   "codemirror_mode": {
    "name": "ipython",
    "version": 3
   },
   "file_extension": ".py",
   "mimetype": "text/x-python",
   "name": "python",
   "nbconvert_exporter": "python",
   "pygments_lexer": "ipython3",
   "version": "3.6.0"
  }
 },
 "nbformat": 4,
 "nbformat_minor": 2
}
