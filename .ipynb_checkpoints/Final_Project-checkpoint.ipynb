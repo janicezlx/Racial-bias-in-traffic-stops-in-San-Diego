{
 "cells": [
  {
   "cell_type": "markdown",
   "metadata": {
    "deletable": false,
    "editable": false,
    "nbgrader": {
     "checksum": "ff00ff87dd74edd5aadb6a63e56cd5db",
     "grade": false,
     "grade_id": "header-1",
     "locked": true,
     "schema_version": 1,
     "solution": false
    }
   },
   "source": [
    "# COGS 108 - Final Project"
   ]
  },
  {
   "cell_type": "markdown",
   "metadata": {},
   "source": [
    "### Group Members\n",
    "- Caelean Barnes\n",
    "- Tina Dibs\n",
    "- Yuwei Zhang\n",
    "- Lixiang Zhou\n"
   ]
  },
  {
   "cell_type": "markdown",
   "metadata": {},
   "source": [
    "## Background\n",
    "\n",
    "In this project we try to determine whether there exists an overrepresentation of certain races in Police stops, searches, and arrests in San Diego county in 2016 and 2017. An SDSU study done in 2015 showed that there exists vast inequality in this regard. In response to the SDSU study, the SDPD implemented an increase in police training. We will attempt to determine if racial bias is still present in Police stops, searches, and arrests in San Diego county. \n",
    "\n",
    "The aforementioned study refers to an SDSU study that analyzes racial bias in traffic stops in San Diego during 2014-2015 (1). In response to the study, the SDPD increased training at every level in an attempt to reduce the biases that the study found in traffic stops from 2014-2015. \n",
    "We came across this study after encountering datasets regarding SDPD traffic stops (https://data.sandiego.gov). This data, in combination with known historical police biases, prompted us to investigate this topic. We hypothesize that the racial bias still exists today in some capacity. We make this hypothesis based on the historic track record of the Police in the United States as a whole, and the fact that attempted reform within government agencies is generally a portracted process that takes several years to take hold.\n",
    "   \n",
    "The second reference refers to a police officer in Chula Vista who witnessed several of his colleagues using racial slurs (2). This article provides an example of the bias against certain races in policing and further emphasizes the need to address this issue. We believe that a discussion about racial bias in policing is important because it concerns the safety of people not only in San Diego, but America as a whole. Tensions have been high due to current events that continue to occur, so if we can determine whether the police training implemented by the SDPD was effective, we may be able to provide useful feedback as to the necessity of more police training programs in San Diego and across the US. \n",
    "\n",
    "The third reference is the 2015 census data which shows the actual racial demographics in San Diego as of 2015. We will compare this data to the SDPD Vehicle Stops data to determine whether the races are accurately represented in Vehicle Stops or whether there exists a bias towards a racial group.\n",
    "\n",
    "### References\n",
    "1) Traffic enforcement in\tSan Diego, California An analysis of SDPD vehicle stops in 2014 and 2015\n",
    "- Study done by SDSU at the request of the City of San Diego.\n",
    "Long link to pdf of research study:    \n",
    "http://tu9srvbirvvtmtukd3d3lnnhbmrpzwdvlmdvdg00.g00.sandiegouniontribune.com/g00/2_d3d3LnNhbmRpZWdvdW5pb250cmlidW5lLmNvbQ%3D%3D_/TU9SRVBIRVVTMTUkaHR0cHM6Ly93d3cuc2FuZGllZ28uZ292L3NpdGVzL2RlZmF1bHQvZmlsZXMvc2RwZHZlaGljbGVzdG9wc2ZpbmFsLnBkZg%3D%3D_$/$/$/$/$    \n",
    "\n",
    "2) Chula Vista settles with ex-cop for 175k USD in whistleblower racism case\n",
    "- Police officer claimed he was fired in response to filing a complaint about racism within the department; sued the city.\n",
    "Link: http://www.10news.com/news/chula-vista-settles-with-ex-cop-for-175k-in-whistleblower-racism-case\n",
    "\n",
    "3) San Diego census data https://factfinder.census.gov/faces/tableservices/jsf/pages/productview.xhtml?src=CF that we will use to compare to the stopped/searched/arrested data. "
   ]
  },
  {
   "cell_type": "markdown",
   "metadata": {},
   "source": [
    "## Research Question\n",
    "\n",
    "A study on traffic stops in San Diego during 2014/15 showed that Black and Hispanic drivers were more likely to be stopped and searched, but less likely to be carrying contraband when compared to their White and Asian counterparts. Do the racial demographics in traffic stops, searches, and arrests made by the SDPD in 2016/2017 still reflect this racial inequity or does the data accurately reflect San Diego's demographic breakdown? "
   ]
  },
  {
   "cell_type": "markdown",
   "metadata": {},
   "source": [
    "## Hypothesis\n",
    "\n",
    "In response to the study, the SDPD increased required training for officers and other officials. However, we predict that the racial bias present in traffic stops, searches, and citations from 2014 and 2015 will not be gone  because we speculate that ingrained racial biases can be eradicated within 2 years."
   ]
  },
  {
   "cell_type": "markdown",
   "metadata": {},
   "source": [
    "## Data Description\n",
    "\n",
    "The first dataset contains all vehicle stops in San Diego during 2016. Relevant information includes the timestamp, suspect’s race, age, whether or not the suspect’s vehicle was searched, and whether or not the suspect was arrested.\n",
    "- Dataset Name: Vehicle Stops (2016)\n",
    "- Link to the dataset: http://seshat.datasd.org/pd/vehicle_stops_2016_datasd.csv\n",
    "- Number of observations: 103,052,\n",
    "\n",
    "\n",
    "The second dataset contains all vehicle stops in San Diego from the beginning of 2017 up through March. Relevant information includes the timestamp, suspect’s race, sex, and age, and whether or not the suspect’s vehicle was searched.\n",
    "- Dataset Name: Vehicle Stops Search Details (2016)\n",
    "- Link to the dataset: http://seshat.datasd.org/pd/vehicle_stops_2017_datasd.csv\n",
    "- Number of observations: 28,231\n"
   ]
  },
  {
   "cell_type": "markdown",
   "metadata": {},
   "source": [
    "## Code\n",
    "Imports"
   ]
  },
  {
   "cell_type": "code",
   "execution_count": 1,
   "metadata": {
    "collapsed": true,
    "deletable": false,
    "editable": false,
    "nbgrader": {
     "checksum": "d7232f47fe6b26fe5d553b2356ac4590",
     "grade": false,
     "grade_id": "filename_msg",
     "locked": true,
     "schema_version": 1,
     "solution": false
    }
   },
   "outputs": [],
   "source": [
    "import numpy as np\n",
    "import scipy as sp\n",
    "import pandas as pd\n",
    "import matplotlib.pyplot as plt\n",
    "import sklearn as skl\n",
    "import re"
   ]
  },
  {
   "cell_type": "markdown",
   "metadata": {},
   "source": [
    "Here we import the data sets. The data is held in local files which we downloaded from https://data.sandiego.gov"
   ]
  },
  {
   "cell_type": "code",
   "execution_count": 2,
   "metadata": {
    "collapsed": true,
    "nbgrader": {
     "checksum": "810ca16c646b87c334a0b9c77b23367c",
     "grade": false,
     "grade_id": "header-2",
     "locked": true,
     "schema_version": 1,
     "solution": false
    },
    "scrolled": false
   },
   "outputs": [],
   "source": [
    "df_data = pd.read_csv(open('vehicle_stops_2016_datasd.csv')); \n",
    "df_data2 = pd.read_csv(open('vehicle_stops_2017_datasd.csv'));"
   ]
  },
  {
   "cell_type": "markdown",
   "metadata": {},
   "source": [
    "## Data Cleaning & Pre-Processing\n",
    "We will combine our dataset because they contain the same kind of information. We also need to only include the relevant data types (there are some duplicates), drop NaN rows, drop invalid data, and parse the timestamps so that we can separate our data into night and day. "
   ]
  },
  {
   "cell_type": "markdown",
   "metadata": {},
   "source": [
    "We join the data sets together. This is quite easy as they share the same headings. We then filter by the headings we need to perform our analysis."
   ]
  },
  {
   "cell_type": "code",
   "execution_count": 3,
   "metadata": {
    "collapsed": false
   },
   "outputs": [
    {
     "name": "stdout",
     "output_type": "stream",
     "text": [
      "Dimensions of data: (131413, 6)\n"
     ]
    }
   ],
   "source": [
    "data = pd.concat( [df_data, df_data2]);\n",
    "data = data[['stop_cause','subject_race', 'stop_time', 'sd_resident', 'arrested', 'searched']];\n",
    "print(\"Dimensions of data: \" + str(data.shape))"
   ]
  },
  {
   "cell_type": "markdown",
   "metadata": {},
   "source": [
    "Drop null values and filter by san diego residents. We further filter by equipment/moving violations, as this is what is done in the original study. The purpose is to look at stops which were made at the discretion of the officer involved, and not ones responding to suspect descriptions. These violations are still the vast majority of stops made."
   ]
  },
  {
   "cell_type": "code",
   "execution_count": 4,
   "metadata": {
    "collapsed": false,
    "nbgrader": {
     "checksum": "771f1a1f6f6056f24efc677ef957b16c",
     "grade": false,
     "grade_id": "part1-instr",
     "locked": true,
     "schema_version": 1,
     "solution": false
    }
   },
   "outputs": [
    {
     "name": "stdout",
     "output_type": "stream",
     "text": [
      "Dimensions of data: (76426, 6)\n"
     ]
    }
   ],
   "source": [
    "data = data.dropna(); \n",
    "data = data[data.sd_resident == \"Y\"] \n",
    "violations = ['Equipment Violation', 'Moving Violation']\n",
    "data = data[data['stop_cause'].isin(violations)]\n",
    "print(\"Dimensions of data: \" + str(data.shape))"
   ]
  },
  {
   "cell_type": "markdown",
   "metadata": {
    "nbgrader": {
     "checksum": "74f0c31475bc03a99e59308d4921e8e8",
     "grade": false,
     "grade_id": "check-version",
     "locked": true,
     "schema_version": 1,
     "solution": false
    }
   },
   "source": [
    "Get night data for 'veil of darkness'. This is a technique used to determine demographics populations based on the premise that stops made during the night time will not be influenced by race, as the officer will be unable to visually identify the driver. It is used in the original study that we are comparing our data to, as well as many others. For more information, see http://trafficstops.trendct.org/story/how-veil-of-darkness-sheds-light-on-racial-profiling/. \n",
    "\n",
    "The longest day in San Diego County runs from 4:36am to 9:40pm.\n",
    "We look at records outside of this time frame to establish driver demographics."
   ]
  },
  {
   "cell_type": "code",
   "execution_count": 5,
   "metadata": {
    "collapsed": false
   },
   "outputs": [
    {
     "name": "stdout",
     "output_type": "stream",
     "text": [
      "Dimensions of night data: (76382, 6)\n"
     ]
    }
   ],
   "source": [
    "night_data = data\n",
    "for x in night_data.stop_time:\n",
    "    if not ':' in x:     \n",
    "        index = night_data[night_data['stop_time'] == x].index\n",
    "        night_data.drop(index, inplace=True);\n",
    "print(\"Dimensions of night data: \" + str(night_data.shape))"
   ]
  },
  {
   "cell_type": "markdown",
   "metadata": {},
   "source": [
    "Here we parse the time data and use it to filter the data sets into night and day."
   ]
  },
  {
   "cell_type": "code",
   "execution_count": 6,
   "metadata": {
    "collapsed": true,
    "nbgrader": {
     "checksum": "685e194f6543d5faa6bc20de99850f4c",
     "grade": false,
     "grade_id": "part2-instr",
     "locked": true,
     "schema_version": 1,
     "solution": false
    }
   },
   "outputs": [],
   "source": [
    "stop_times = night_data.stop_time\n",
    "day_times = []\n",
    "invalid_times = []\n",
    "for time in stop_times:\n",
    "    try:\n",
    "        hour, minute = time.split(':');\n",
    "    except:\n",
    "        hour, minute, sec = time.split(':');\n",
    "    hour = int(hour);\n",
    "    minute = int(minute); \n",
    "    # invalid times\n",
    "    if(hour > 24 or hour < 0 or minute < 0 or minute > 60):\n",
    "        invalid_times.append(time)\n",
    "    # After 4:36am\n",
    "    elif(hour > 4 or (hour == 4 and minute > 36)):\n",
    "        # Before 9:40pm\n",
    "        if(hour < 21 or (hour == 21 and minute < 40)):\n",
    "            day_times.append(time)\n",
    "# Drop all records with this time"
   ]
  },
  {
   "cell_type": "markdown",
   "metadata": {},
   "source": [
    "Filter out night times and invalid times from night dataset and main dataset:"
   ]
  },
  {
   "cell_type": "code",
   "execution_count": 7,
   "metadata": {
    "collapsed": false
   },
   "outputs": [
    {
     "name": "stdout",
     "output_type": "stream",
     "text": [
      "Dimensions of night data: (14502, 6)\n",
      "Dimensions of day data: (61767, 6)\n"
     ]
    }
   ],
   "source": [
    "night_data = night_data[~night_data['stop_time'].isin(day_times)]\n",
    "night_data = night_data[~night_data['stop_time'].isin(invalid_times)]\n",
    "print(\"Dimensions of night data: \" + str(night_data.shape))\n",
    "\n",
    "data = data[data['stop_time'].isin(day_times)]\n",
    "data = data[~data['stop_time'].isin(invalid_times)]\n",
    "print(\"Dimensions of day data: \" + str(data.shape))"
   ]
  },
  {
   "cell_type": "markdown",
   "metadata": {},
   "source": [
    "Here is a sample of what our dataset looks like:"
   ]
  },
  {
   "cell_type": "code",
   "execution_count": 8,
   "metadata": {
    "collapsed": false
   },
   "outputs": [
    {
     "data": {
      "text/html": [
       "<div>\n",
       "<table border=\"1\" class=\"dataframe\">\n",
       "  <thead>\n",
       "    <tr style=\"text-align: right;\">\n",
       "      <th></th>\n",
       "      <th>stop_cause</th>\n",
       "      <th>subject_race</th>\n",
       "      <th>stop_time</th>\n",
       "      <th>sd_resident</th>\n",
       "      <th>arrested</th>\n",
       "      <th>searched</th>\n",
       "    </tr>\n",
       "  </thead>\n",
       "  <tbody>\n",
       "    <tr>\n",
       "      <th>15</th>\n",
       "      <td>Moving Violation</td>\n",
       "      <td>W</td>\n",
       "      <td>6:40</td>\n",
       "      <td>Y</td>\n",
       "      <td>N</td>\n",
       "      <td>N</td>\n",
       "    </tr>\n",
       "    <tr>\n",
       "      <th>16</th>\n",
       "      <td>Moving Violation</td>\n",
       "      <td>W</td>\n",
       "      <td>6:45</td>\n",
       "      <td>Y</td>\n",
       "      <td>N</td>\n",
       "      <td>N</td>\n",
       "    </tr>\n",
       "    <tr>\n",
       "      <th>19</th>\n",
       "      <td>Moving Violation</td>\n",
       "      <td>H</td>\n",
       "      <td>8:15</td>\n",
       "      <td>Y</td>\n",
       "      <td>N</td>\n",
       "      <td>N</td>\n",
       "    </tr>\n",
       "    <tr>\n",
       "      <th>20</th>\n",
       "      <td>Equipment Violation</td>\n",
       "      <td>H</td>\n",
       "      <td>8:15</td>\n",
       "      <td>Y</td>\n",
       "      <td>N</td>\n",
       "      <td>Y</td>\n",
       "    </tr>\n",
       "    <tr>\n",
       "      <th>22</th>\n",
       "      <td>Equipment Violation</td>\n",
       "      <td>O</td>\n",
       "      <td>8:25</td>\n",
       "      <td>Y</td>\n",
       "      <td>N</td>\n",
       "      <td>N</td>\n",
       "    </tr>\n",
       "    <tr>\n",
       "      <th>23</th>\n",
       "      <td>Moving Violation</td>\n",
       "      <td>W</td>\n",
       "      <td>8:30</td>\n",
       "      <td>Y</td>\n",
       "      <td>N</td>\n",
       "      <td>N</td>\n",
       "    </tr>\n",
       "    <tr>\n",
       "      <th>25</th>\n",
       "      <td>Moving Violation</td>\n",
       "      <td>C</td>\n",
       "      <td>8:45</td>\n",
       "      <td>Y</td>\n",
       "      <td>N</td>\n",
       "      <td>N</td>\n",
       "    </tr>\n",
       "    <tr>\n",
       "      <th>26</th>\n",
       "      <td>Moving Violation</td>\n",
       "      <td>A</td>\n",
       "      <td>8:55</td>\n",
       "      <td>Y</td>\n",
       "      <td>N</td>\n",
       "      <td>N</td>\n",
       "    </tr>\n",
       "    <tr>\n",
       "      <th>27</th>\n",
       "      <td>Equipment Violation</td>\n",
       "      <td>W</td>\n",
       "      <td>9:00</td>\n",
       "      <td>Y</td>\n",
       "      <td>N</td>\n",
       "      <td>N</td>\n",
       "    </tr>\n",
       "    <tr>\n",
       "      <th>29</th>\n",
       "      <td>Moving Violation</td>\n",
       "      <td>W</td>\n",
       "      <td>10:25</td>\n",
       "      <td>Y</td>\n",
       "      <td>N</td>\n",
       "      <td>N</td>\n",
       "    </tr>\n",
       "  </tbody>\n",
       "</table>\n",
       "</div>"
      ],
      "text/plain": [
       "             stop_cause subject_race stop_time sd_resident arrested searched\n",
       "15     Moving Violation            W      6:40           Y        N        N\n",
       "16     Moving Violation            W      6:45           Y        N        N\n",
       "19     Moving Violation            H      8:15           Y        N        N\n",
       "20  Equipment Violation            H      8:15           Y        N        Y\n",
       "22  Equipment Violation            O      8:25           Y        N        N\n",
       "23     Moving Violation            W      8:30           Y        N        N\n",
       "25     Moving Violation            C      8:45           Y        N        N\n",
       "26     Moving Violation            A      8:55           Y        N        N\n",
       "27  Equipment Violation            W      9:00           Y        N        N\n",
       "29     Moving Violation            W     10:25           Y        N        N"
      ]
     },
     "execution_count": 8,
     "metadata": {},
     "output_type": "execute_result"
    }
   ],
   "source": [
    "data.head(10)"
   ]
  },
  {
   "cell_type": "markdown",
   "metadata": {},
   "source": [
    "## Data Visualization & Analysis\n",
    "In this section we separate our data by race and calculate the demographics for San Diego, traffic stops, arrests, and searches. We then compare the relative proportions of racial representation in the traffic stops, arrests, and searches to determine how closely they match the actual San Diego racial demographics. "
   ]
  },
  {
   "cell_type": "markdown",
   "metadata": {},
   "source": [
    "Retrieve the driving demographics of San Diego from the night data:"
   ]
  },
  {
   "cell_type": "code",
   "execution_count": 9,
   "metadata": {
    "collapsed": true
   },
   "outputs": [],
   "source": [
    "sd_demographics = night_data['subject_race'].value_counts()\n",
    "demographics = {}\n",
    "demographics['hispanic'] = sd_demographics['H']\n",
    "demographics['black'] = sd_demographics['B']\n",
    "demographics['asian'] = sd_demographics['A'] + sd_demographics['P'] + sd_demographics['O'] # P. Islander, Oriental\n",
    "demographics['white'] = sd_demographics['W']\n",
    "demographics['total'] = sum(demographics.values())\n",
    "\n",
    "dem_percentages = {}\n",
    "for key in demographics.keys():\n",
    "    dem_percentages[key] = demographics[key] / demographics['total']"
   ]
  },
  {
   "cell_type": "markdown",
   "metadata": {},
   "source": [
    "San Diego demographics according to night data:"
   ]
  },
  {
   "cell_type": "code",
   "execution_count": 10,
   "metadata": {
    "collapsed": false
   },
   "outputs": [
    {
     "data": {
      "image/png": "[encoded data removed]",
      "text/plain": [
       "<matplotlib.figure.Figure at 0x10ca676d8>"
      ]
     },
     "metadata": {},
     "output_type": "display_data"
    },
    {
     "data": {
      "image/png": "[encoded data removed]",
      "text/plain": [
       "<matplotlib.figure.Figure at 0x10e12b358>"
      ]
     },
     "metadata": {},
     "output_type": "display_data"
    }
   ],
   "source": [
    "plt.bar(range(len(demographics)), demographics.values(), align='center',color='lightcoral')\n",
    "plt.xticks(range(len(demographics)), demographics.keys())\n",
    "plt.xlabel(\"Race\")\n",
    "plt.ylabel(\"Population\")\n",
    "plt.title('San Diego Demographics (Night Data)')\n",
    "plt.show()\n",
    "\n",
    "dem_percentages.pop('total', None)\n",
    "colors = ['gold', 'yellowgreen', 'lightcoral', 'lightskyblue']\n",
    "labels = ['Hispanic', 'Black', 'Asian', 'White']\n",
    "plt.pie(list(dem_percentages.values()), labels=labels, colors=colors,\n",
    "        autopct='%1.1f%%', shadow=True, startangle=140)\n",
    "plt.title('San Diego Demographic Percentages from the night data')\n",
    "plt.show()"
   ]
  },
  {
   "cell_type": "markdown",
   "metadata": {},
   "source": [
    "Unfortunately our demographic data seems to be significantly different than both general San Diego demographics and the demographics shown in the 2014-2015 study. We attempted several modifications to refine our search parameters further, but were not able to derive realistic percentages through the 'veil of darkness' technique. Because of this, we decided to go ahead and use the demographics from 2015 as calculated in the original study. We can do this because overall demographic data tends to be stable and not change significantly from year to year."
   ]
  },
  {
   "cell_type": "code",
   "execution_count": 11,
   "metadata": {
    "collapsed": false,
    "nbgrader": {
     "checksum": "799af375e4a21f305a10bd4d72b6770d",
     "grade": true,
     "grade_id": "add2-tests",
     "locked": true,
     "points": 2,
     "schema_version": 1,
     "solution": false
    }
   },
   "outputs": [
    {
     "data": {
      "image/png": "[encoded data removed]",
      "text/plain": [
       "<matplotlib.figure.Figure at 0x10ca673c8>"
      ]
     },
     "metadata": {},
     "output_type": "display_data"
    }
   ],
   "source": [
    "dem_percentages = {}\n",
    "dem_percentages['hispanic'] = .329\n",
    "dem_percentages['black'] = .047\n",
    "dem_percentages['asian'] = .154\n",
    "dem_percentages['white'] = .47\n",
    "colors = ['gold', 'yellowgreen', 'lightcoral', 'lightskyblue']\n",
    "labels = ['Hispanic', 'Black', 'Asian', 'White']\n",
    "plt.pie(list(dem_percentages.values()), labels=labels, colors=colors,\n",
    "        autopct='%1.1f%%', shadow=True, startangle=140)\n",
    "plt.title('San Diego Demographics According to the SDSU 2015 Study')\n",
    "plt.show()"
   ]
  },
  {
   "cell_type": "markdown",
   "metadata": {},
   "source": [
    "Calculate the demographics of drivers stopped by the police:"
   ]
  },
  {
   "cell_type": "code",
   "execution_count": 12,
   "metadata": {
    "collapsed": true,
    "nbgrader": {
     "checksum": "ca8293dcc214606d2a927b42413bc366",
     "grade": false,
     "grade_id": "add2",
     "locked": false,
     "schema_version": 1,
     "solution": true
    },
    "scrolled": false
   },
   "outputs": [],
   "source": [
    "stopped_demographics = data['subject_race'].value_counts()\n",
    "stops = {}\n",
    "stops['hispanic'] = stopped_demographics['H']\n",
    "stops['black'] = stopped_demographics['B']\n",
    "stops['asian'] = stopped_demographics['A'] # Pacific Islanders\n",
    "stops['white'] = stopped_demographics['W']\n",
    "stops['total'] = sum(stops.values())\n",
    "\n",
    "stop_percentages = {}\n",
    "for key in demographics.keys():\n",
    "    stop_percentages[key] = stops[key] / stops['total']"
   ]
  },
  {
   "cell_type": "markdown",
   "metadata": {},
   "source": [
    "Demographics of police stops in 2016-2017:"
   ]
  },
  {
   "cell_type": "code",
   "execution_count": 13,
   "metadata": {
    "collapsed": false
   },
   "outputs": [
    {
     "data": {
      "image/png": "[encoded data removed]",
      "text/plain": [
       "<matplotlib.figure.Figure at 0x11812c828>"
      ]
     },
     "metadata": {},
     "output_type": "display_data"
    },
    {
     "data": {
      "image/png": "[encoded data removed]",
      "text/plain": [
       "<matplotlib.figure.Figure at 0x118e1fba8>"
      ]
     },
     "metadata": {},
     "output_type": "display_data"
    }
   ],
   "source": [
    "plt.bar(range(len(stops)), stops.values(), align='center',color='lightcoral')\n",
    "plt.xticks(range(len(stops)), stops.keys())\n",
    "plt.xlabel(\"Race\")\n",
    "plt.ylabel(\"Population\")\n",
    "plt.title('2016-2017 Demographics of Police Stops')\n",
    "plt.show()\n",
    "\n",
    "stop_percentages.pop('total', None)\n",
    "colors = ['gold', 'yellowgreen', 'lightcoral', 'lightskyblue']\n",
    "labels = ['Hispanic', 'Black', 'Asian', 'White']\n",
    "plt.pie(list(stop_percentages.values()), labels=labels, colors=colors,\n",
    "        autopct='%1.1f%%', shadow=True, startangle=140)\n",
    "plt.title('San Diego Demographic Percentages from Traffic Stops 2016-2017')\n",
    "plt.show()"
   ]
  },
  {
   "cell_type": "markdown",
   "metadata": {},
   "source": [
    "Here we calculate the ratio of the percentage of stops when compared to the percentage of population each race represents."
   ]
  },
  {
   "cell_type": "code",
   "execution_count": 14,
   "metadata": {
    "collapsed": false,
    "scrolled": true
   },
   "outputs": [
    {
     "name": "stdout",
     "output_type": "stream",
     "text": [
      "Stops:\n",
      "{'hispanic': 0.3234502837768114, 'black': 0.1354205056386821, 'asian': 0.056220977371563355, 'white': 0.48490823321294318}\n",
      "Demographics:\n",
      "{'hispanic': 0.329, 'black': 0.047, 'asian': 0.154, 'white': 0.47}\n"
     ]
    }
   ],
   "source": [
    "dif_percentages = {}\n",
    "for key in dem_percentages.keys():\n",
    "    dif_percentages[key] = stop_percentages[key] / dem_percentages[key]\n",
    "print(\"Stops:\")\n",
    "print(stop_percentages)\n",
    "print(\"Demographics:\")\n",
    "print(dem_percentages)"
   ]
  },
  {
   "cell_type": "markdown",
   "metadata": {},
   "source": [
    "The demographic percentages compared to the stop percentages: (values retrieved from the dictionaries above)"
   ]
  },
  {
   "cell_type": "code",
   "execution_count": 15,
   "metadata": {
    "collapsed": false
   },
   "outputs": [
    {
     "data": {
      "image/png": "[encoded data removed]",
      "text/plain": [
       "<matplotlib.figure.Figure at 0x11a1ff048>"
      ]
     },
     "metadata": {},
     "output_type": "display_data"
    },
    {
     "data": {
      "image/png": "[encoded data removed]",
      "text/plain": [
       "<matplotlib.figure.Figure at 0x11a94f518>"
      ]
     },
     "metadata": {},
     "output_type": "display_data"
    }
   ],
   "source": [
    "\n",
    "d= [{'stop percentages': 43.4, 'demographic percentages': 32.9},\n",
    "   {'stop percentages': 13.5, 'demographic percentages': 4.7},\n",
    "   {'stop percentages': 5.6, 'demographic percentages': 1.5},\n",
    "   {'stop percentages': 48.5, 'demographic percentages': 47}] \n",
    "\n",
    "graph=pd.DataFrame(d)\n",
    "graph.rename(index={0:'hispanic',1:'black',2:'asian',3:'white'}, inplace=True)\n",
    "graph.plot.bar(color=['gold', 'lightskyblue'])\n",
    "plt.show()\n",
    "\n",
    "plt.bar(range(len(dif_percentages)), dif_percentages.values(), align='center',color='lightcoral')\n",
    "plt.xticks(range(len(dif_percentages)), dif_percentages.keys())\n",
    "plt.xlabel(\"Race\")\n",
    "plt.ylabel(\"Ratio of traffic stops to population\")\n",
    "plt.title('Traffic Stops compared to Population by Race')\n",
    "plt.show()"
   ]
  },
  {
   "cell_type": "markdown",
   "metadata": {},
   "source": [
    "As you can see from the data above, Black people are nearly 3x as likely to be stopped by the police when compared to White or Hispanic people. In contrast, Asians are approximately half as likely to be stopped."
   ]
  },
  {
   "cell_type": "markdown",
   "metadata": {},
   "source": [
    "Here we calculate the percentages of searches and arrests of Hispanic people in San Diego along with the total amount of Hispanics stopped during the day in the 2016-2017 period. 236 hispanics were arrested, which is 1.3% of total stops of Hispanic people. 1038 were searched, which is a total of 5.9% of the total stops of Hispanic people. "
   ]
  },
  {
   "cell_type": "code",
   "execution_count": 16,
   "metadata": {
    "collapsed": true
   },
   "outputs": [],
   "source": [
    "hispanic = data[data['subject_race'] == 'H']\n",
    "h_arrested = hispanic['arrested'].value_counts()\n",
    "h_arrested = h_arrested['Y'] \n",
    "h_searched = hispanic['searched'].value_counts()\n",
    "h_searched = h_searched['Y']\n",
    "h_pop = len(hispanic)"
   ]
  },
  {
   "cell_type": "markdown",
   "metadata": {},
   "source": [
    "Counts of searches and arrests of AfricHere we calculate the percentages of searches and arrests of African American people in San Diego along with the total amount of African American people stopped during the day in the 2016-2017 period. 159 African Americans were arrested, which is 2.1% of total stops of African American people. 729 were searched, which is 9.9% of total stops. This is almost twice the proportion found for Hispanics. \n",
    "an American people in San Diego:"
   ]
  },
  {
   "cell_type": "code",
   "execution_count": 17,
   "metadata": {
    "collapsed": true
   },
   "outputs": [],
   "source": [
    "black = data[ data['subject_race'] == 'B' ]\n",
    "b_arrested = black['arrested'].value_counts()\n",
    "b_arrested = b_arrested['Y'] \n",
    "b_searched = black['searched'].value_counts()\n",
    "b_searched = b_searched['Y']\n",
    "b_pop = len( black)"
   ]
  },
  {
   "cell_type": "markdown",
   "metadata": {},
   "source": [
    "Here we calculate the percentages of searches and arrests of Asian people in San Diego along with the total amount of Asian people stopped during the day in the 2016-2017 period. 28 Asians were arrested, which is .34% of total stops of Asian people. 117 Asians were searched, which is 1.4% of the total stop population for Asians. This is a very small fraction in comparison with the Hispanic and Black counts. "
   ]
  },
  {
   "cell_type": "code",
   "execution_count": 18,
   "metadata": {
    "collapsed": true
   },
   "outputs": [],
   "source": [
    "asian = data[ (data['subject_race'] == 'A') | (data['subject_race'] == 'P') | (data['subject_race'] == 'O')]\n",
    "a_arrested = asian['arrested'].value_counts()\n",
    "a_arrested = a_arrested['Y'] \n",
    "a_searched = asian['searched'].value_counts()\n",
    "a_searched = a_searched['Y']\n",
    "a_pop = len(asian) "
   ]
  },
  {
   "cell_type": "markdown",
   "metadata": {},
   "source": [
    "Here we calculate the percentages of searches and arrests of Whitepeople in San Diego along with the total amount of White people stopped during the day in the 2016-2017 period. 162 White people were arrested, which is .6% of total stops of White people. 614 White people were searched, which is 2.3% of the total stop population for Whites. Like the Asian data, this is a very small fraction in comparison with the Hispanic and Black counts.\n"
   ]
  },
  {
   "cell_type": "code",
   "execution_count": 19,
   "metadata": {
    "collapsed": true
   },
   "outputs": [],
   "source": [
    "white = data[ data['subject_race'] == 'W' ]\n",
    "w_arrested = white['arrested'].value_counts()\n",
    "w_arrested = w_arrested['Y'] \n",
    "w_searched = white['searched'].value_counts()\n",
    "w_searched = w_searched['Y']\n",
    "w_pop = len( white ) "
   ]
  },
  {
   "cell_type": "markdown",
   "metadata": {},
   "source": [
    "Here we calculate the arrest demographics by comparing the arrests of each race by the total arrests in the period 2016-2017. "
   ]
  },
  {
   "cell_type": "code",
   "execution_count": 20,
   "metadata": {
    "collapsed": true
   },
   "outputs": [],
   "source": [
    "arrests = {}\n",
    "total_arrested = (h_arrested + a_arrested + b_arrested + w_arrested)\n",
    "arrests['hispanic'] = h_arrested/total_arrested\n",
    "arrests['black'] = b_arrested/total_arrested\n",
    "arrests['asian'] = a_arrested/total_arrested\n",
    "arrests['white'] = w_arrested/total_arrested \n",
    "arrests['total'] = sum(arrests.values())"
   ]
  },
  {
   "cell_type": "markdown",
   "metadata": {},
   "source": [
    "We compare our arrest demographics to the actual SD census demographics and find, like our findings above, a big discrepancy between Whites and Asians in comparison with Hispanics and Blacks. Asians and Whites are arrested in proportionally low numbers, while Hispanics and especially blacks are arrested in alarmingly high rates. "
   ]
  },
  {
   "cell_type": "code",
   "execution_count": 21,
   "metadata": {
    "collapsed": true
   },
   "outputs": [],
   "source": [
    "dif_arrests = {}\n",
    "for key in dem_percentages.keys():\n",
    "    dif_arrests[key] = arrests[key] / dem_percentages[key]"
   ]
  },
  {
   "cell_type": "markdown",
   "metadata": {},
   "source": [
    "Here we calculate the search demographics by comparing the searches of each race by the total search in the period 2016-2017. "
   ]
  },
  {
   "cell_type": "code",
   "execution_count": 22,
   "metadata": {
    "collapsed": true
   },
   "outputs": [],
   "source": [
    "searches = {}\n",
    "total_searched = (h_searched + b_searched + a_searched + w_searched)\n",
    "searches['hispanic'] = h_searched/total_searched\n",
    "searches['black'] = b_searched/total_searched\n",
    "searches['asian'] = a_searched/total_searched\n",
    "searches['white'] = w_searched/total_searched\n",
    "searches['total'] = sum(searches.values())"
   ]
  },
  {
   "cell_type": "markdown",
   "metadata": {},
   "source": [
    "We compare our search demographics to the actual SD census demographics and find, like our findings above, a big discrepancy between Whites and Asians in comparison with Hispanics and Blacks. Asians and Whites are searched in proportionally low numbers, while Hispanics and especially blacks are searched at alarmingly high rates. "
   ]
  },
  {
   "cell_type": "code",
   "execution_count": 23,
   "metadata": {
    "collapsed": false
   },
   "outputs": [
    {
     "name": "stdout",
     "output_type": "stream",
     "text": [
      "Searches:\n",
      "{'hispanic': 0.41536614645858344, 'black': 0.29171668667466988, 'asian': 0.047218887555022009, 'white': 0.24569827931172469, 'total': 1.0}\n",
      "Arrests:\n",
      "{'hispanic': 0.40204429301533218, 'black': 0.27086882453151617, 'asian': 0.049403747870528106, 'white': 0.2776831345826235, 'total': 1.0}\n"
     ]
    }
   ],
   "source": [
    "dif_searches = {}\n",
    "for key in dem_percentages.keys():\n",
    "    dif_searches[key] = searches[key] / dem_percentages[key]\n",
    "\n",
    "print(\"Searches:\")\n",
    "print(searches)\n",
    "print(\"Arrests:\")\n",
    "print(arrests)"
   ]
  },
  {
   "cell_type": "markdown",
   "metadata": {},
   "source": [
    "Here we plot the searches and arrests against the demographic makeup of each ethnicity. Values are retreived from the dictionaries above."
   ]
  },
  {
   "cell_type": "code",
   "execution_count": 24,
   "metadata": {
    "collapsed": false
   },
   "outputs": [
    {
     "data": {
      "image/png": "[encoded data removed]",
      "text/plain": [
       "<matplotlib.figure.Figure at 0x11a87fef0>"
      ]
     },
     "metadata": {},
     "output_type": "display_data"
    },
    {
     "data": {
      "image/png": "[encoded data removed]",
      "text/plain": [
       "<matplotlib.figure.Figure at 0x11ab7fe10>"
      ]
     },
     "metadata": {},
     "output_type": "display_data"
    }
   ],
   "source": [
    "arr= [{'demographic percentages': 47, 'search percentages': 24.5},\n",
    "   {'demographic percentages': 32.9, 'search percentages': 41.5},\n",
    "   {'demographic percentages': 4.7, 'search percentages': 29.2},\n",
    "   {'demographic percentages': 15.4, 'search percentages': 4.6}] \n",
    "graph2=pd.DataFrame(arr)\n",
    "graph2.rename(index={0:'White',1:'Hispanic',2:'Black',3:'Asian'}, inplace=True)\n",
    "graph2.plot.bar(color=['lightcoral', 'lightskyblue'])\n",
    "plt.show()\n",
    "\n",
    "arr= [{'demographic percentages': 47, 'Ι arrest percentages': 27.6}, # special character to preserve alphabetical sorting\n",
    "   {'demographic percentages': 32.9, 'Ι arrest percentages': 40.3},\n",
    "   {'demographic percentages': 4.7, 'Ι arrest percentages': 27.1},\n",
    "   {'demographic percentages': 15.4, 'Ι arrest percentages': 4.7 }] \n",
    "graph2=pd.DataFrame(arr)\n",
    "graph2.rename(index={0:'White',1:'Hispanic',2:'Black',3:'Asian'}, inplace=True)\n",
    "graph2.plot.bar()\n",
    "plt.show()\n"
   ]
  },
  {
   "cell_type": "markdown",
   "metadata": {},
   "source": [
    "As we can see from the graphs above, certain races are far more likely to be searched and subsequently arrested. This is even more apparent if we look at the ratio of searches and arrests when compared with population demographics."
   ]
  },
  {
   "cell_type": "code",
   "execution_count": 25,
   "metadata": {
    "collapsed": false
   },
   "outputs": [
    {
     "data": {
      "image/png": "[encoded data removed]",
      "text/plain": [
       "<matplotlib.figure.Figure at 0x11ae55cf8>"
      ]
     },
     "metadata": {},
     "output_type": "display_data"
    },
    {
     "data": {
      "image/png": "[encoded data removed]",
      "text/plain": [
       "<matplotlib.figure.Figure at 0x11aaff940>"
      ]
     },
     "metadata": {},
     "output_type": "display_data"
    }
   ],
   "source": [
    "\n",
    "plt.bar(range(len(dif_searches)), dif_searches.values(), align='center',color='lightcoral')\n",
    "plt.xticks(range(len(dif_searches)), dif_searches.keys())\n",
    "plt.xlabel(\"Race\")\n",
    "plt.ylabel(\"Ratio of searches to population\")\n",
    "plt.title('Searches compared to Population by Race')\n",
    "plt.show()\n",
    "\n",
    "\n",
    "plt.bar(range(len(dif_arrests)), dif_arrests.values(), align='center',color='lightcoral')\n",
    "plt.xticks(range(len(dif_arrests)), dif_arrests.keys())\n",
    "plt.xlabel(\"Race\")\n",
    "plt.ylabel(\"Ratio of arrests to population\")\n",
    "plt.title('Arrests compared to Population by Race')\n",
    "plt.show()"
   ]
  },
  {
   "cell_type": "markdown",
   "metadata": {},
   "source": [
    "## Conclusion & Discussion"
   ]
  },
  {
   "cell_type": "markdown",
   "metadata": {},
   "source": [
    "As is evident from the data above, Black people are about 3x as likely to be arrested, and almost 6x as likely to be searched and/or arrested during a given routine traffic stop when compared with the overall average. Hispanics are about equally as likely as the average to be stopped, but are approximately 10% more likely to be searched and/or arrested. White people are about as likely to be stopped as anyone, but are less likely to be searched and/or arrested when compared to Blacks and Hispanics. Asians bucked these trends, and are actually less likely to be stopped, searched, and/or arrested when compared with the overall average. This data is in line with our hypothesis. There is clear and evident racial bias shown through this data. It unfortunately appears to be the case that the additional training the SDPD implemented in 2015 has not impacted the clear inclination to target African American drivers. There may be potential confounds in our demographic data, as well as other reasons for the discrepancy in stops. These include specific neighborhood racial makeups and predilection to crime, income status, and others. However, even if we were to takie these into account, The data provides a clear and stark contrast based only on race.\n",
    "\n",
    "Because of this, we hope the SDPD and other Police departments continue to take this issue seriously and implement steps to reduce the racial profiling that is seen not only in San Diego, but around the United States. This is particularly relevant today, as many places are pushing back on the change required to help eradicate this problem. Just recently, Texas signed a bill allowing police officers to question the immigration status of subjects during routine traffic stops. (https://www.usatoday.com/story/news/2017/06/12/sanctuary-cities-texas-lawsuit-law-trump/102709158/) This opens up even greater room for discrimination and profiling. It is important that we as a society recognize the prevalence of this issue, and push back on any attempts to belittle the significance and attention it deserves. It is an unfortunate truth that the SDPD is not doing enough to remove the racial bias that persists to this day. We hope that down the road, we can run the same analysis on future data and find no significant difference when race is the only variable manipulated. Our project shows that we still have a long way to go."
   ]
  }
 ],
 "metadata": {
  "anaconda-cloud": {},
  "celltoolbar": "Edit Metadata",
  "kernelspec": {
   "display_name": "Python 3",
   "language": "python",
   "name": "python3"
  },
  "language_info": {
   "codemirror_mode": {
    "name": "ipython",
    "version": 3
   },
   "file_extension": ".py",
   "mimetype": "text/x-python",
   "name": "python",
   "nbconvert_exporter": "python",
   "pygments_lexer": "ipython3",
   "version": "3.6.0"
  }
 },
 "nbformat": 4,
 "nbformat_minor": 1
}
